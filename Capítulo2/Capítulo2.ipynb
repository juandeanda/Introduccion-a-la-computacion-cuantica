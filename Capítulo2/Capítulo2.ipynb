{
 "cells": [
  {
   "cell_type": "markdown",
   "metadata": {},
   "source": [
    "# Capítulo 2"
   ]
  },
  {
   "cell_type": "markdown",
   "metadata": {},
   "source": [
    "## 2.1 Fundamentos al Qbit\n",
    "$\\newcommand{\\ket}[1]{\\left|{#1}\\right\\rangle}$\n",
    "$\\newcommand{\\bra}[1]{\\left\\langle{#1}\\right|}$\n",
    "$\\newcommand{\\braket}[2]{\\left\\langle{#1}\\middle|{#2}\\right\\rangle}$"
   ]
  },
  {
   "cell_type": "markdown",
   "metadata": {},
   "source": [
    "El Qbit es definido como una conbinación de dos estados $\\ket{0}$ y $\\ket{1}$, dado por"
   ]
  },
  {
   "cell_type": "markdown",
   "metadata": {},
   "source": [
    "\\begin{equation}\n",
    "\\ket{\\psi}=\\alpha \\ket{0}+\\beta \\ket{1}\n",
    "\\end{equation}"
   ]
  },
  {
   "cell_type": "markdown",
   "metadata": {},
   "source": [
    "donde $\\alpha$ y $\\beta$ son números complejos y marcan la probabilidad de estdos, teniendo la propiedad de $|\\alpha|^2+|\\beta|^2=1$."
   ]
  },
  {
   "cell_type": "markdown",
   "metadata": {},
   "source": [
    "### Ejemplo 1.\n",
    "Encontrar el valor de $\\beta$ si $\\alpha=\\frac{1}{2}+0i$ y la parte imaginaria de $\\beta$ es cero, así como escribir el Qbit resultante.\n",
    "#### Sol.\n",
    "$$\\alpha \\cdot \\alpha^*=(\\frac{1}{2}+0i)(\\frac{1}{2}-0i)=\\frac{1}{4}$$"
   ]
  },
  {
   "cell_type": "markdown",
   "metadata": {},
   "source": [
    "por lo tanto $|\\beta|^2=1-\\frac{1}{4}=\\frac{3}{4}$, así que $\\beta=\\frac{\\sqrt{3}}{2}+0i$."
   ]
  },
  {
   "cell_type": "markdown",
   "metadata": {},
   "source": [
    "El resultado de manera gráfica si muestra en la siguiente imagen.\n",
    "![title](imagen/qx1.png)"
   ]
  },
  {
   "cell_type": "markdown",
   "metadata": {},
   "source": [
    "## Ejemplo 2\n",
    "Desarrollar un programa en lenguaje python que permita simular un Qbit, teniendo como valor de entrada uno o dos párametros de probabilidad.\n",
    "\n",
    "### sol.\n",
    "Comenzamos definiendo las bibliotecas a utilizar \n"
   ]
  },
  {
   "cell_type": "code",
   "execution_count": 1,
   "metadata": {},
   "outputs": [],
   "source": [
    "import numpy as np"
   ]
  },
  {
   "cell_type": "markdown",
   "metadata": {},
   "source": []
  }
 ],
 "metadata": {
  "kernelspec": {
   "display_name": "Python 3",
   "language": "python",
   "name": "python3"
  },
  "language_info": {
   "codemirror_mode": {
    "name": "ipython",
    "version": 3
   },
   "file_extension": ".py",
   "mimetype": "text/x-python",
   "name": "python",
   "nbconvert_exporter": "python",
   "pygments_lexer": "ipython3",
   "version": "3.6.9"
  }
 },
 "nbformat": 4,
 "nbformat_minor": 2
}
